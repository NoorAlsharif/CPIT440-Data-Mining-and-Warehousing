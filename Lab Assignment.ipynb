{
 "cells": [
  {
   "cell_type": "markdown",
   "metadata": {},
   "source": [
    "# CPIT 440 lab assignment\n",
    "\n",
    "In the housing dataset, we detected some problems such as capping the `median_house_value` at 500001. In addition, we did not remove the outliers.  \n",
    "1. remove all the districts whose price equals 500001\n",
    "2. remove outliers\n",
    "3. repeat all the preprocessing steps\n",
    "4. use the `RandomForestRegressor` again and use the cross validation\n",
    "5. what is the importance of each feature based on the cross validation\n",
    "6. evaluate the model on the test set, and comment on the new score"
   ]
  },
  {
   "cell_type": "markdown",
   "metadata": {},
   "source": [
    "-------------------------------------------"
   ]
  },
  {
   "cell_type": "code",
   "execution_count": 1,
   "metadata": {},
   "outputs": [
    {
     "name": "stdout",
     "output_type": "stream",
     "text": [
      "       longitude  latitude  housing_median_age  total_rooms  total_bedrooms  \\\n",
      "0        -122.23     37.88                41.0        880.0           129.0   \n",
      "1        -122.22     37.86                21.0       7099.0          1106.0   \n",
      "2        -122.24     37.85                52.0       1467.0           190.0   \n",
      "3        -122.25     37.85                52.0       1274.0           235.0   \n",
      "4        -122.25     37.85                52.0       1627.0           280.0   \n",
      "...          ...       ...                 ...          ...             ...   \n",
      "20635    -121.09     39.48                25.0       1665.0           374.0   \n",
      "20636    -121.21     39.49                18.0        697.0           150.0   \n",
      "20637    -121.22     39.43                17.0       2254.0           485.0   \n",
      "20638    -121.32     39.43                18.0       1860.0           409.0   \n",
      "20639    -121.24     39.37                16.0       2785.0           616.0   \n",
      "\n",
      "       population  households  median_income  median_house_value  \\\n",
      "0           322.0       126.0         8.3252            452600.0   \n",
      "1          2401.0      1138.0         8.3014            358500.0   \n",
      "2           496.0       177.0         7.2574            352100.0   \n",
      "3           558.0       219.0         5.6431            341300.0   \n",
      "4           565.0       259.0         3.8462            342200.0   \n",
      "...           ...         ...            ...                 ...   \n",
      "20635       845.0       330.0         1.5603             78100.0   \n",
      "20636       356.0       114.0         2.5568             77100.0   \n",
      "20637      1007.0       433.0         1.7000             92300.0   \n",
      "20638       741.0       349.0         1.8672             84700.0   \n",
      "20639      1387.0       530.0         2.3886             89400.0   \n",
      "\n",
      "      ocean_proximity  \n",
      "0            NEAR BAY  \n",
      "1            NEAR BAY  \n",
      "2            NEAR BAY  \n",
      "3            NEAR BAY  \n",
      "4            NEAR BAY  \n",
      "...               ...  \n",
      "20635          INLAND  \n",
      "20636          INLAND  \n",
      "20637          INLAND  \n",
      "20638          INLAND  \n",
      "20639          INLAND  \n",
      "\n",
      "[20640 rows x 10 columns]\n"
     ]
    }
   ],
   "source": [
    "import pandas as pd\n",
    "#url=\"https://raw.githubusercontent.com/ageron/handson-ml/master/datasets/housing/housing.csv\"\n",
    "url=\"/Users/nooralsharif/CPIT-440 LAB/LAB work/p2 housing.csv\"\n",
    "housing=pd.read_csv(url)\n",
    "\n",
    "\n",
    "print(housing)"
   ]
  },
  {
   "cell_type": "markdown",
   "metadata": {},
   "source": [
    "## 1. Remove all the districts whose price equals 500001"
   ]
  },
  {
   "cell_type": "code",
   "execution_count": 2,
   "metadata": {},
   "outputs": [
    {
     "name": "stdout",
     "output_type": "stream",
     "text": [
      "       longitude  latitude  housing_median_age  total_rooms  total_bedrooms  \\\n",
      "0        -122.23     37.88                41.0        880.0           129.0   \n",
      "1        -122.22     37.86                21.0       7099.0          1106.0   \n",
      "2        -122.24     37.85                52.0       1467.0           190.0   \n",
      "3        -122.25     37.85                52.0       1274.0           235.0   \n",
      "4        -122.25     37.85                52.0       1627.0           280.0   \n",
      "...          ...       ...                 ...          ...             ...   \n",
      "19670    -121.09     39.48                25.0       1665.0           374.0   \n",
      "19671    -121.21     39.49                18.0        697.0           150.0   \n",
      "19672    -121.22     39.43                17.0       2254.0           485.0   \n",
      "19673    -121.32     39.43                18.0       1860.0           409.0   \n",
      "19674    -121.24     39.37                16.0       2785.0           616.0   \n",
      "\n",
      "       population  households  median_income  median_house_value  \\\n",
      "0           322.0       126.0         8.3252            452600.0   \n",
      "1          2401.0      1138.0         8.3014            358500.0   \n",
      "2           496.0       177.0         7.2574            352100.0   \n",
      "3           558.0       219.0         5.6431            341300.0   \n",
      "4           565.0       259.0         3.8462            342200.0   \n",
      "...           ...         ...            ...                 ...   \n",
      "19670       845.0       330.0         1.5603             78100.0   \n",
      "19671       356.0       114.0         2.5568             77100.0   \n",
      "19672      1007.0       433.0         1.7000             92300.0   \n",
      "19673       741.0       349.0         1.8672             84700.0   \n",
      "19674      1387.0       530.0         2.3886             89400.0   \n",
      "\n",
      "      ocean_proximity  \n",
      "0            NEAR BAY  \n",
      "1            NEAR BAY  \n",
      "2            NEAR BAY  \n",
      "3            NEAR BAY  \n",
      "4            NEAR BAY  \n",
      "...               ...  \n",
      "19670          INLAND  \n",
      "19671          INLAND  \n",
      "19672          INLAND  \n",
      "19673          INLAND  \n",
      "19674          INLAND  \n",
      "\n",
      "[19675 rows x 10 columns]\n"
     ]
    }
   ],
   "source": [
    "capped_index = (housing['median_house_value'] == 500001)\n",
    "#********************************\n",
    "# write the code that remove districts with price = 500001\n",
    "#********************************\n",
    "#housing.drop(capped_index.index, inplace = True)\n",
    "#housing.reset_index(drop=True, inplace=True)\n",
    "\n",
    "index_numbers = capped_index[capped_index].index\n",
    "housing.drop(index_numbers, inplace = True)\n",
    "housing.reset_index(drop=True, inplace=True)\n",
    "\n",
    "\n",
    "print(housing)"
   ]
  },
  {
   "cell_type": "markdown",
   "metadata": {},
   "source": [
    "## 2. Remove outliers"
   ]
  },
  {
   "cell_type": "code",
   "execution_count": 3,
   "metadata": {},
   "outputs": [],
   "source": [
    "#****************This section is complete**********************\n",
    "housing_num = housing.drop(\"ocean_proximity\", axis=1)\n",
    "Q1 = housing_num.quantile(0.25)\n",
    "Q3 = housing_num.quantile(0.75)\n",
    "IQR = Q3 - Q1\n",
    "\n",
    "outlier_index = ((housing_num < (Q1 - 1.5 * IQR)) |(housing_num > (Q3 + 1.5 * IQR))).any(axis=1)\n",
    "index_numbers = housing_num[outlier_index].index\n",
    "housing.drop(index_numbers,inplace = True)\n",
    "housing.reset_index(drop=True, inplace=True)"
   ]
  },
  {
   "cell_type": "markdown",
   "metadata": {},
   "source": [
    "**convert `ocean_proximity` from string to numerical categories**"
   ]
  },
  {
   "cell_type": "code",
   "execution_count": 4,
   "metadata": {},
   "outputs": [],
   "source": [
    "#****************This section is complete**********************\n",
    "housing_cat = housing[\"ocean_proximity\"]\n",
    "housing_cat_encoded, housing_categories = housing_cat.factorize()\n",
    "housing_cat =pd.DataFrame(housing_cat_encoded,columns=[\"ocean_proximity\"])\n",
    "housing[\"ocean_proximity\"]=housing_cat\n"
   ]
  },
  {
   "cell_type": "markdown",
   "metadata": {},
   "source": [
    "## 3. Preprocessing"
   ]
  },
  {
   "cell_type": "markdown",
   "metadata": {},
   "source": [
    "### 3.1 Splitting into train and test sets"
   ]
  },
  {
   "cell_type": "code",
   "execution_count": 5,
   "metadata": {},
   "outputs": [],
   "source": [
    "#****************This section is complete**********************\n",
    "import numpy as np\n",
    "housing[\"income_cat\"] = np.ceil(housing[\"median_income\"]*(2/3))\n",
    "housing[\"income_cat\"].where(housing[\"income_cat\"] < 5, 5.0, inplace=True)\n",
    "\n",
    "from sklearn.model_selection import train_test_split\n",
    "train_set, test_set = train_test_split(housing, test_size=0.2, random_state=42,stratify=housing['income_cat'])\n",
    "\n",
    "train_set=train_set.drop(\"income_cat\", axis=1)\n",
    "test_set=test_set.drop(\"income_cat\", axis=1)\n",
    "\n",
    "train_set.reset_index(drop=True, inplace=True)\n",
    "test_set.reset_index(drop=True, inplace=True)"
   ]
  },
  {
   "cell_type": "markdown",
   "metadata": {},
   "source": [
    "### 3.2 Divide the dataset into Dependent & Independent variable"
   ]
  },
  {
   "cell_type": "code",
   "execution_count": 6,
   "metadata": {},
   "outputs": [],
   "source": [
    "#********************************\n",
    "# write the division code here\n",
    "train_X = train_set.drop(\"median_house_value\", axis=1)\n",
    "train_y = train_set[\"median_house_value\"].copy()\n",
    "test_X = train_set.drop(\"median_house_value\", axis=1)\n",
    "test_y = train_set[\"median_house_value\"].copy()\n",
    "#********************************"
   ]
  },
  {
   "cell_type": "markdown",
   "metadata": {},
   "source": [
    "### 3.3 Data cleaning (Missing values)"
   ]
  },
  {
   "cell_type": "code",
   "execution_count": 7,
   "metadata": {},
   "outputs": [],
   "source": [
    "housing=train_X\n",
    "from sklearn.impute import SimpleImputer\n",
    "import numpy as np\n",
    "imputer = SimpleImputer(missing_values=np.nan,strategy='median')\n",
    "housing_num = housing.drop(\"ocean_proximity\", axis=1)\n",
    "#***********************************************************\n",
    "# There are two missed lines of code here\n",
    "imputer.fit(housing_num)\n",
    "housing_num.median().values\n",
    "X = imputer.transform(housing_num)\n",
    "#***********************************************************\n",
    "housing_tr = pd.DataFrame(X, columns=housing_num.columns)"
   ]
  },
  {
   "cell_type": "markdown",
   "metadata": {},
   "source": [
    "### 3.4  Handeling the categorical attributes"
   ]
  },
  {
   "cell_type": "code",
   "execution_count": 8,
   "metadata": {},
   "outputs": [],
   "source": [
    "#****************This section is complete**********************\n",
    "housing_cat = housing[\"ocean_proximity\"]\n",
    "ocean_ndarray = housing_cat.to_numpy()\n",
    "\n",
    "from sklearn.preprocessing import OneHotEncoder\n",
    "encoder = OneHotEncoder()\n",
    "housing_cat_1hot = encoder.fit_transform(ocean_ndarray.reshape(-1,1))\n",
    "housing_cat_1hot=housing_cat_1hot.toarray()\n",
    "housing_cat =pd.DataFrame(housing_cat_1hot,columns=housing_categories.tolist())"
   ]
  },
  {
   "cell_type": "markdown",
   "metadata": {},
   "source": [
    "### 3.5 Data scaling "
   ]
  },
  {
   "cell_type": "code",
   "execution_count": 9,
   "metadata": {},
   "outputs": [],
   "source": [
    "#****************This section is complete**********************\n",
    "from sklearn.preprocessing import StandardScaler\n",
    "scaler = StandardScaler()\n",
    "scaler.fit(housing_tr)\n",
    "scaled=scaler.transform(housing_tr)\n",
    "housing_scaled = pd.DataFrame(scaled, columns=housing_tr.columns)\n",
    "train_X = pd.concat([housing_scaled, housing_cat], axis=1)"
   ]
  },
  {
   "cell_type": "markdown",
   "metadata": {},
   "source": [
    "-----------------------------------------------"
   ]
  },
  {
   "cell_type": "markdown",
   "metadata": {},
   "source": [
    "In the follwoing cell I will repeat the steps to be implemented on the test set. Note that I will take the imputer, encodr, and scaler as fitted from the train data and use them to transform the test set to prevent data leakage."
   ]
  },
  {
   "cell_type": "code",
   "execution_count": 10,
   "metadata": {},
   "outputs": [],
   "source": [
    "#****************This section is complete**********************\n",
    "#missing values\n",
    "housing = test_X\n",
    "housing_num = housing.drop(\"ocean_proximity\", axis=1)\n",
    "X = imputer.transform(housing_num)\n",
    "housing_tr = pd.DataFrame(X, columns=housing_num.columns)\n",
    "#categorical attribute\n",
    "housing_cat = housing[\"ocean_proximity\"]\n",
    "ocean_ndarray = housing_cat.to_numpy()\n",
    "housing_cat_1hot = encoder.transform(ocean_ndarray.reshape(-1,1))\n",
    "housing_cat_1hot=housing_cat_1hot.toarray()  #from sparse to dense\n",
    "housing_cat =pd.DataFrame(housing_cat_1hot,columns=housing_categories.tolist()) \n",
    "#standardization\n",
    "scaled=scaler.transform(housing_tr)\n",
    "housing_scaled = pd.DataFrame(scaled, columns=housing_tr.columns)\n",
    "#concatenation of numerical and categorical\n",
    "test_X = pd.concat([housing_scaled, housing_cat], axis=1)"
   ]
  },
  {
   "cell_type": "markdown",
   "metadata": {},
   "source": [
    "## 4.  `RandomForestRegressor`  and  cross-validation"
   ]
  },
  {
   "cell_type": "code",
   "execution_count": 11,
   "metadata": {},
   "outputs": [
    {
     "name": "stdout",
     "output_type": "stream",
     "text": [
      "Scores: [41777.77838243 41517.89645069 40018.81611014 40844.40339007\n",
      " 42636.79559235 41985.56110018 40571.32323066 41996.83713962\n",
      " 41221.93303378 39096.50757272]\n",
      "Mean: 41166.78520026484\n",
      "Standard deviation: 1004.1081260139713\n"
     ]
    }
   ],
   "source": [
    "from sklearn.ensemble import RandomForestRegressor\n",
    "from sklearn.model_selection import cross_validate\n",
    "from sklearn.metrics import mean_squared_error\n",
    "\n",
    "forest_reg = RandomForestRegressor(n_estimators=100 )\n",
    "#***********************************************************\n",
    "# There is one missed line of code here \n",
    "forest_reg.fit(train_X, train_y.values.ravel())\n",
    "\n",
    "#Now we will evaluate the model.\n",
    "#housing_predictions = forest_reg.predict(train_X)\n",
    "#forest_mse = mean_squared_error(train_y, housing_predictions)\n",
    "#forest_rmse = np.sqrt(forest_mse)\n",
    "#forest_rmse\n",
    "#***********************************************************\n",
    "\n",
    "forest_output = cross_validate(forest_reg, train_X, train_y.values.ravel(), scoring=\"neg_mean_squared_error\", cv=10,  return_estimator =True)\n",
    "forest_rmse_scores = np.sqrt(-forest_output[\"test_score\"])\n",
    "\n",
    "def display_scores(scores):\n",
    "    print(\"Scores:\", scores)\n",
    "    print(\"Mean:\", scores.mean())\n",
    "    print(\"Standard deviation:\", scores.std())\n",
    "\n",
    "display_scores(forest_rmse_scores)\n"
   ]
  },
  {
   "cell_type": "markdown",
   "metadata": {},
   "source": [
    "## 5. feature_importances based on cross_validation"
   ]
  },
  {
   "cell_type": "code",
   "execution_count": 12,
   "metadata": {},
   "outputs": [
    {
     "data": {
      "text/plain": [
       "[(0.33727922686256734, 'median_income'),\n",
       " (0.24370220581556076, 'INLAND'),\n",
       " (0.12611563899767936, 'longitude'),\n",
       " (0.11272885341490062, 'latitude'),\n",
       " (0.048022809214560626, 'housing_median_age'),\n",
       " (0.03988685640641344, 'population'),\n",
       " (0.032787775922998155, 'total_rooms'),\n",
       " (0.026080816035829187, 'total_bedrooms'),\n",
       " (0.023589754170590938, 'households'),\n",
       " (0.006370166483653951, 'NEAR OCEAN'),\n",
       " (0.0024924626612509004, '<1H OCEAN'),\n",
       " (0.000888013852585532, 'NEAR BAY'),\n",
       " (5.542016140929111e-05, 'ISLAND')]"
      ]
     },
     "execution_count": 12,
     "metadata": {},
     "output_type": "execute_result"
    }
   ],
   "source": [
    "#****************This section is complete**********************\n",
    "feature_importances=np.zeros(len(train_X.columns)) \n",
    "for estimator in forest_output['estimator']:\n",
    "    feature_importances=np.add(feature_importances,estimator.feature_importances_)\n",
    "\n",
    "feature_importances=np.divide(feature_importances,10)   # because cv=10, hence we calculate the mean\n",
    "sorted(zip(feature_importances, train_X.columns), reverse=True)"
   ]
  },
  {
   "cell_type": "markdown",
   "metadata": {},
   "source": [
    "## 6. comment on the new score you got on the test set"
   ]
  },
  {
   "cell_type": "code",
   "execution_count": 13,
   "metadata": {},
   "outputs": [
    {
     "data": {
      "text/plain": [
       "15304.096696363715"
      ]
     },
     "execution_count": 13,
     "metadata": {},
     "output_type": "execute_result"
    }
   ],
   "source": [
    "#***********************************************************\n",
    "# There are two missed lines of code here \n",
    "final_predictions = forest_reg.predict(test_X)\n",
    "final_mse = mean_squared_error(test_y, final_predictions)\n",
    "#***********************************************************\n",
    "final_rmse = np.sqrt(final_mse)\n",
    "final_rmse"
   ]
  }
 ],
 "metadata": {
  "kernelspec": {
   "display_name": "Python 3",
   "language": "python",
   "name": "python3"
  },
  "language_info": {
   "codemirror_mode": {
    "name": "ipython",
    "version": 3
   },
   "file_extension": ".py",
   "mimetype": "text/x-python",
   "name": "python",
   "nbconvert_exporter": "python",
   "pygments_lexer": "ipython3",
   "version": "3.8.8"
  }
 },
 "nbformat": 4,
 "nbformat_minor": 4
}
