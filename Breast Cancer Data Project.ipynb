{
 "cells": [
  {
   "cell_type": "code",
   "execution_count": 1,
   "id": "324e3cf1",
   "metadata": {
    "scrolled": true
   },
   "outputs": [
    {
     "data": {
      "text/html": [
       "<div>\n",
       "<style scoped>\n",
       "    .dataframe tbody tr th:only-of-type {\n",
       "        vertical-align: middle;\n",
       "    }\n",
       "\n",
       "    .dataframe tbody tr th {\n",
       "        vertical-align: top;\n",
       "    }\n",
       "\n",
       "    .dataframe thead th {\n",
       "        text-align: right;\n",
       "    }\n",
       "</style>\n",
       "<table border=\"1\" class=\"dataframe\">\n",
       "  <thead>\n",
       "    <tr style=\"text-align: right;\">\n",
       "      <th></th>\n",
       "      <th>Texture</th>\n",
       "      <th>Perimeter</th>\n",
       "      <th>Area</th>\n",
       "      <th>Smoothness</th>\n",
       "      <th>Compactness</th>\n",
       "      <th>Concavity</th>\n",
       "      <th>Concave_points</th>\n",
       "      <th>Symmetry</th>\n",
       "      <th>Fractal_dimension</th>\n",
       "      <th>tumor cells</th>\n",
       "    </tr>\n",
       "  </thead>\n",
       "  <tbody>\n",
       "    <tr>\n",
       "      <th>0</th>\n",
       "      <td>10.38</td>\n",
       "      <td>122.80</td>\n",
       "      <td>1001.0</td>\n",
       "      <td>0.118</td>\n",
       "      <td>0.278</td>\n",
       "      <td>0.300</td>\n",
       "      <td>0.147</td>\n",
       "      <td>0.242</td>\n",
       "      <td>0.079</td>\n",
       "      <td>M</td>\n",
       "    </tr>\n",
       "    <tr>\n",
       "      <th>1</th>\n",
       "      <td>17.77</td>\n",
       "      <td>132.90</td>\n",
       "      <td>1326.0</td>\n",
       "      <td>0.085</td>\n",
       "      <td>0.079</td>\n",
       "      <td>0.087</td>\n",
       "      <td>0.070</td>\n",
       "      <td>0.181</td>\n",
       "      <td>0.057</td>\n",
       "      <td>M</td>\n",
       "    </tr>\n",
       "    <tr>\n",
       "      <th>2</th>\n",
       "      <td>21.25</td>\n",
       "      <td>130.00</td>\n",
       "      <td>1203.0</td>\n",
       "      <td>0.110</td>\n",
       "      <td>0.160</td>\n",
       "      <td>0.197</td>\n",
       "      <td>0.128</td>\n",
       "      <td>0.207</td>\n",
       "      <td>0.060</td>\n",
       "      <td>M</td>\n",
       "    </tr>\n",
       "    <tr>\n",
       "      <th>3</th>\n",
       "      <td>20.38</td>\n",
       "      <td>77.58</td>\n",
       "      <td>386.1</td>\n",
       "      <td>0.142</td>\n",
       "      <td>0.284</td>\n",
       "      <td>0.241</td>\n",
       "      <td>0.105</td>\n",
       "      <td>0.260</td>\n",
       "      <td>0.097</td>\n",
       "      <td>M</td>\n",
       "    </tr>\n",
       "    <tr>\n",
       "      <th>4</th>\n",
       "      <td>14.34</td>\n",
       "      <td>135.10</td>\n",
       "      <td>1297.0</td>\n",
       "      <td>0.100</td>\n",
       "      <td>0.133</td>\n",
       "      <td>0.198</td>\n",
       "      <td>0.104</td>\n",
       "      <td>0.181</td>\n",
       "      <td>0.059</td>\n",
       "      <td>M</td>\n",
       "    </tr>\n",
       "    <tr>\n",
       "      <th>...</th>\n",
       "      <td>...</td>\n",
       "      <td>...</td>\n",
       "      <td>...</td>\n",
       "      <td>...</td>\n",
       "      <td>...</td>\n",
       "      <td>...</td>\n",
       "      <td>...</td>\n",
       "      <td>...</td>\n",
       "      <td>...</td>\n",
       "      <td>...</td>\n",
       "    </tr>\n",
       "    <tr>\n",
       "      <th>564</th>\n",
       "      <td>22.39</td>\n",
       "      <td>142.00</td>\n",
       "      <td>1479.0</td>\n",
       "      <td>0.111</td>\n",
       "      <td>0.116</td>\n",
       "      <td>0.244</td>\n",
       "      <td>0.139</td>\n",
       "      <td>0.173</td>\n",
       "      <td>0.056</td>\n",
       "      <td>M</td>\n",
       "    </tr>\n",
       "    <tr>\n",
       "      <th>565</th>\n",
       "      <td>28.25</td>\n",
       "      <td>131.20</td>\n",
       "      <td>1261.0</td>\n",
       "      <td>0.098</td>\n",
       "      <td>0.103</td>\n",
       "      <td>0.144</td>\n",
       "      <td>0.098</td>\n",
       "      <td>0.175</td>\n",
       "      <td>0.055</td>\n",
       "      <td>M</td>\n",
       "    </tr>\n",
       "    <tr>\n",
       "      <th>566</th>\n",
       "      <td>28.08</td>\n",
       "      <td>108.30</td>\n",
       "      <td>858.1</td>\n",
       "      <td>0.085</td>\n",
       "      <td>0.102</td>\n",
       "      <td>0.093</td>\n",
       "      <td>0.053</td>\n",
       "      <td>0.159</td>\n",
       "      <td>0.056</td>\n",
       "      <td>M</td>\n",
       "    </tr>\n",
       "    <tr>\n",
       "      <th>567</th>\n",
       "      <td>29.33</td>\n",
       "      <td>140.10</td>\n",
       "      <td>1265.0</td>\n",
       "      <td>0.118</td>\n",
       "      <td>0.277</td>\n",
       "      <td>0.351</td>\n",
       "      <td>0.152</td>\n",
       "      <td>0.240</td>\n",
       "      <td>0.070</td>\n",
       "      <td>M</td>\n",
       "    </tr>\n",
       "    <tr>\n",
       "      <th>568</th>\n",
       "      <td>24.54</td>\n",
       "      <td>47.92</td>\n",
       "      <td>181.0</td>\n",
       "      <td>0.053</td>\n",
       "      <td>0.044</td>\n",
       "      <td>0.000</td>\n",
       "      <td>0.000</td>\n",
       "      <td>0.159</td>\n",
       "      <td>0.059</td>\n",
       "      <td>B</td>\n",
       "    </tr>\n",
       "  </tbody>\n",
       "</table>\n",
       "<p>569 rows × 10 columns</p>\n",
       "</div>"
      ],
      "text/plain": [
       "     Texture  Perimeter    Area  Smoothness  Compactness  Concavity  \\\n",
       "0      10.38     122.80  1001.0       0.118        0.278      0.300   \n",
       "1      17.77     132.90  1326.0       0.085        0.079      0.087   \n",
       "2      21.25     130.00  1203.0       0.110        0.160      0.197   \n",
       "3      20.38      77.58   386.1       0.142        0.284      0.241   \n",
       "4      14.34     135.10  1297.0       0.100        0.133      0.198   \n",
       "..       ...        ...     ...         ...          ...        ...   \n",
       "564    22.39     142.00  1479.0       0.111        0.116      0.244   \n",
       "565    28.25     131.20  1261.0       0.098        0.103      0.144   \n",
       "566    28.08     108.30   858.1       0.085        0.102      0.093   \n",
       "567    29.33     140.10  1265.0       0.118        0.277      0.351   \n",
       "568    24.54      47.92   181.0       0.053        0.044      0.000   \n",
       "\n",
       "     Concave_points  Symmetry  Fractal_dimension tumor cells  \n",
       "0             0.147     0.242              0.079           M  \n",
       "1             0.070     0.181              0.057           M  \n",
       "2             0.128     0.207              0.060           M  \n",
       "3             0.105     0.260              0.097           M  \n",
       "4             0.104     0.181              0.059           M  \n",
       "..              ...       ...                ...         ...  \n",
       "564           0.139     0.173              0.056           M  \n",
       "565           0.098     0.175              0.055           M  \n",
       "566           0.053     0.159              0.056           M  \n",
       "567           0.152     0.240              0.070           M  \n",
       "568           0.000     0.159              0.059           B  \n",
       "\n",
       "[569 rows x 10 columns]"
      ]
     },
     "execution_count": 1,
     "metadata": {},
     "output_type": "execute_result"
    }
   ],
   "source": [
    "import pandas as pd\n",
    "#url=\"https://raw.githubusercontent.com/ageron/handson-ml/master/datasets/housing/housing.csv\"\n",
    "url=\"C:\\\\Users\\\\Admin\\\\Desktop\\\\440 project\\\\wbc2.csv\"\n",
    "#bc --> Breast Cancer\n",
    "bc=pd.read_csv(url)\n",
    "bc # this the raw dataset"
   ]
  },
  {
   "cell_type": "code",
   "execution_count": 2,
   "id": "56eda6c9",
   "metadata": {},
   "outputs": [],
   "source": [
    "from sklearn.preprocessing import LabelEncoder\n",
    "labelencoder = LabelEncoder()\n",
    "# FIRST - Assigning numerical values and storing in the same column\n",
    "bc['tumor cells']= labelencoder.fit_transform(bc['tumor cells'])\n",
    "#M=1 B=0"
   ]
  },
  {
   "cell_type": "code",
   "execution_count": 3,
   "id": "9e57b86d",
   "metadata": {},
   "outputs": [
    {
     "data": {
      "text/plain": [
       "Texture                5.630\n",
       "Perimeter             28.930\n",
       "Area                 362.400\n",
       "Smoothness             0.019\n",
       "Compactness            0.065\n",
       "Concavity              0.101\n",
       "Concave_points         0.054\n",
       "Symmetry               0.034\n",
       "Fractal_dimension      0.008\n",
       "tumor cells            1.000\n",
       "dtype: float64"
      ]
     },
     "execution_count": 3,
     "metadata": {},
     "output_type": "execute_result"
    }
   ],
   "source": [
    "#SECOND - HANDLE OUTLIERS\n",
    "Q1 = bc.quantile(0.25)\n",
    "Q3 = bc.quantile(0.75)\n",
    "IQR = Q3 - Q1\n",
    "IQR\n"
   ]
  },
  {
   "cell_type": "code",
   "execution_count": 4,
   "id": "66121cca",
   "metadata": {},
   "outputs": [
    {
     "data": {
      "text/plain": [
       "Texture               True\n",
       "Perimeter             True\n",
       "Area                  True\n",
       "Smoothness            True\n",
       "Compactness           True\n",
       "Concavity             True\n",
       "Concave_points        True\n",
       "Symmetry              True\n",
       "Fractal_dimension     True\n",
       "tumor cells          False\n",
       "dtype: bool"
      ]
     },
     "execution_count": 4,
     "metadata": {},
     "output_type": "execute_result"
    }
   ],
   "source": [
    "outlier = ( bc.min() < Q1-1.5*IQR) | (bc.max() > Q3+1.5*IQR)\n",
    "outlier"
   ]
  },
  {
   "cell_type": "code",
   "execution_count": 5,
   "id": "b406aa14",
   "metadata": {},
   "outputs": [
    {
     "data": {
      "text/plain": [
       "0       True\n",
       "1      False\n",
       "2      False\n",
       "3       True\n",
       "4      False\n",
       "       ...  \n",
       "564     True\n",
       "565    False\n",
       "566    False\n",
       "567     True\n",
       "568     True\n",
       "Length: 569, dtype: bool"
      ]
     },
     "execution_count": 5,
     "metadata": {},
     "output_type": "execute_result"
    }
   ],
   "source": [
    "#all the rows that has outliers will be True\n",
    "outlier_index = ((bc < (Q1 - 1.5 * IQR)) |(bc > (Q3 + 1.5 * IQR))).any(axis=1)\n",
    "\n",
    "outlier_index"
   ]
  },
  {
   "cell_type": "code",
   "execution_count": 6,
   "id": "6b1b29a5",
   "metadata": {},
   "outputs": [
    {
     "name": "stdout",
     "output_type": "stream",
     "text": [
      "False    501\n",
      "True      68\n",
      "dtype: int64\n"
     ]
    }
   ],
   "source": [
    "print(outlier_index.value_counts())"
   ]
  },
  {
   "cell_type": "code",
   "execution_count": 7,
   "id": "876f6ad0",
   "metadata": {},
   "outputs": [
    {
     "data": {
      "text/plain": [
       "Int64Index([  0,   3,   9,  12,  14,  22,  23,  25,  60,  68,  71,  78,  82,\n",
       "            105, 108, 112, 122, 146, 150, 151, 152, 164, 176, 180, 181, 190,\n",
       "            202, 212, 219, 232, 236, 239, 250, 257, 258, 259, 265, 272, 288,\n",
       "            318, 323, 339, 351, 352, 368, 369, 372, 373, 376, 379, 393, 400,\n",
       "            424, 449, 455, 461, 503, 504, 505, 507, 520, 521, 561, 562, 563,\n",
       "            564, 567, 568],\n",
       "           dtype='int64')"
      ]
     },
     "execution_count": 7,
     "metadata": {},
     "output_type": "execute_result"
    }
   ],
   "source": [
    "index_numbers = bc[outlier_index].index\n",
    "index_numbers"
   ]
  },
  {
   "cell_type": "code",
   "execution_count": 8,
   "id": "be2b8672",
   "metadata": {
    "scrolled": false
   },
   "outputs": [
    {
     "data": {
      "text/html": [
       "<div>\n",
       "<style scoped>\n",
       "    .dataframe tbody tr th:only-of-type {\n",
       "        vertical-align: middle;\n",
       "    }\n",
       "\n",
       "    .dataframe tbody tr th {\n",
       "        vertical-align: top;\n",
       "    }\n",
       "\n",
       "    .dataframe thead th {\n",
       "        text-align: right;\n",
       "    }\n",
       "</style>\n",
       "<table border=\"1\" class=\"dataframe\">\n",
       "  <thead>\n",
       "    <tr style=\"text-align: right;\">\n",
       "      <th></th>\n",
       "      <th>Texture</th>\n",
       "      <th>Perimeter</th>\n",
       "      <th>Area</th>\n",
       "      <th>Smoothness</th>\n",
       "      <th>Compactness</th>\n",
       "      <th>Concavity</th>\n",
       "      <th>Concave_points</th>\n",
       "      <th>Symmetry</th>\n",
       "      <th>Fractal_dimension</th>\n",
       "      <th>tumor cells</th>\n",
       "    </tr>\n",
       "  </thead>\n",
       "  <tbody>\n",
       "    <tr>\n",
       "      <th>1</th>\n",
       "      <td>17.77</td>\n",
       "      <td>132.90</td>\n",
       "      <td>1326.0</td>\n",
       "      <td>0.085</td>\n",
       "      <td>0.079</td>\n",
       "      <td>0.087</td>\n",
       "      <td>0.070</td>\n",
       "      <td>0.181</td>\n",
       "      <td>0.057</td>\n",
       "      <td>1</td>\n",
       "    </tr>\n",
       "    <tr>\n",
       "      <th>2</th>\n",
       "      <td>21.25</td>\n",
       "      <td>130.00</td>\n",
       "      <td>1203.0</td>\n",
       "      <td>0.110</td>\n",
       "      <td>0.160</td>\n",
       "      <td>0.197</td>\n",
       "      <td>0.128</td>\n",
       "      <td>0.207</td>\n",
       "      <td>0.060</td>\n",
       "      <td>1</td>\n",
       "    </tr>\n",
       "    <tr>\n",
       "      <th>4</th>\n",
       "      <td>14.34</td>\n",
       "      <td>135.10</td>\n",
       "      <td>1297.0</td>\n",
       "      <td>0.100</td>\n",
       "      <td>0.133</td>\n",
       "      <td>0.198</td>\n",
       "      <td>0.104</td>\n",
       "      <td>0.181</td>\n",
       "      <td>0.059</td>\n",
       "      <td>1</td>\n",
       "    </tr>\n",
       "    <tr>\n",
       "      <th>5</th>\n",
       "      <td>15.70</td>\n",
       "      <td>82.57</td>\n",
       "      <td>477.1</td>\n",
       "      <td>0.128</td>\n",
       "      <td>0.170</td>\n",
       "      <td>0.158</td>\n",
       "      <td>0.081</td>\n",
       "      <td>0.209</td>\n",
       "      <td>0.076</td>\n",
       "      <td>1</td>\n",
       "    </tr>\n",
       "    <tr>\n",
       "      <th>6</th>\n",
       "      <td>19.98</td>\n",
       "      <td>119.60</td>\n",
       "      <td>1040.0</td>\n",
       "      <td>0.095</td>\n",
       "      <td>0.109</td>\n",
       "      <td>0.113</td>\n",
       "      <td>0.074</td>\n",
       "      <td>0.179</td>\n",
       "      <td>0.057</td>\n",
       "      <td>1</td>\n",
       "    </tr>\n",
       "    <tr>\n",
       "      <th>...</th>\n",
       "      <td>...</td>\n",
       "      <td>...</td>\n",
       "      <td>...</td>\n",
       "      <td>...</td>\n",
       "      <td>...</td>\n",
       "      <td>...</td>\n",
       "      <td>...</td>\n",
       "      <td>...</td>\n",
       "      <td>...</td>\n",
       "      <td>...</td>\n",
       "    </tr>\n",
       "    <tr>\n",
       "      <th>558</th>\n",
       "      <td>22.68</td>\n",
       "      <td>96.39</td>\n",
       "      <td>657.1</td>\n",
       "      <td>0.085</td>\n",
       "      <td>0.133</td>\n",
       "      <td>0.103</td>\n",
       "      <td>0.037</td>\n",
       "      <td>0.145</td>\n",
       "      <td>0.061</td>\n",
       "      <td>0</td>\n",
       "    </tr>\n",
       "    <tr>\n",
       "      <th>559</th>\n",
       "      <td>23.93</td>\n",
       "      <td>74.52</td>\n",
       "      <td>403.5</td>\n",
       "      <td>0.093</td>\n",
       "      <td>0.102</td>\n",
       "      <td>0.111</td>\n",
       "      <td>0.041</td>\n",
       "      <td>0.139</td>\n",
       "      <td>0.066</td>\n",
       "      <td>0</td>\n",
       "    </tr>\n",
       "    <tr>\n",
       "      <th>560</th>\n",
       "      <td>27.15</td>\n",
       "      <td>91.38</td>\n",
       "      <td>600.4</td>\n",
       "      <td>0.099</td>\n",
       "      <td>0.113</td>\n",
       "      <td>0.045</td>\n",
       "      <td>0.043</td>\n",
       "      <td>0.154</td>\n",
       "      <td>0.062</td>\n",
       "      <td>0</td>\n",
       "    </tr>\n",
       "    <tr>\n",
       "      <th>565</th>\n",
       "      <td>28.25</td>\n",
       "      <td>131.20</td>\n",
       "      <td>1261.0</td>\n",
       "      <td>0.098</td>\n",
       "      <td>0.103</td>\n",
       "      <td>0.144</td>\n",
       "      <td>0.098</td>\n",
       "      <td>0.175</td>\n",
       "      <td>0.055</td>\n",
       "      <td>1</td>\n",
       "    </tr>\n",
       "    <tr>\n",
       "      <th>566</th>\n",
       "      <td>28.08</td>\n",
       "      <td>108.30</td>\n",
       "      <td>858.1</td>\n",
       "      <td>0.085</td>\n",
       "      <td>0.102</td>\n",
       "      <td>0.093</td>\n",
       "      <td>0.053</td>\n",
       "      <td>0.159</td>\n",
       "      <td>0.056</td>\n",
       "      <td>1</td>\n",
       "    </tr>\n",
       "  </tbody>\n",
       "</table>\n",
       "<p>501 rows × 10 columns</p>\n",
       "</div>"
      ],
      "text/plain": [
       "     Texture  Perimeter    Area  Smoothness  Compactness  Concavity  \\\n",
       "1      17.77     132.90  1326.0       0.085        0.079      0.087   \n",
       "2      21.25     130.00  1203.0       0.110        0.160      0.197   \n",
       "4      14.34     135.10  1297.0       0.100        0.133      0.198   \n",
       "5      15.70      82.57   477.1       0.128        0.170      0.158   \n",
       "6      19.98     119.60  1040.0       0.095        0.109      0.113   \n",
       "..       ...        ...     ...         ...          ...        ...   \n",
       "558    22.68      96.39   657.1       0.085        0.133      0.103   \n",
       "559    23.93      74.52   403.5       0.093        0.102      0.111   \n",
       "560    27.15      91.38   600.4       0.099        0.113      0.045   \n",
       "565    28.25     131.20  1261.0       0.098        0.103      0.144   \n",
       "566    28.08     108.30   858.1       0.085        0.102      0.093   \n",
       "\n",
       "     Concave_points  Symmetry  Fractal_dimension  tumor cells  \n",
       "1             0.070     0.181              0.057            1  \n",
       "2             0.128     0.207              0.060            1  \n",
       "4             0.104     0.181              0.059            1  \n",
       "5             0.081     0.209              0.076            1  \n",
       "6             0.074     0.179              0.057            1  \n",
       "..              ...       ...                ...          ...  \n",
       "558           0.037     0.145              0.061            0  \n",
       "559           0.041     0.139              0.066            0  \n",
       "560           0.043     0.154              0.062            0  \n",
       "565           0.098     0.175              0.055            1  \n",
       "566           0.053     0.159              0.056            1  \n",
       "\n",
       "[501 rows x 10 columns]"
      ]
     },
     "execution_count": 8,
     "metadata": {},
     "output_type": "execute_result"
    }
   ],
   "source": [
    "#dropped the outliers from bc\n",
    "bc=bc.drop(index_numbers)\n",
    "bc ##the new dataset after dropping outliers\n"
   ]
  },
  {
   "cell_type": "code",
   "execution_count": 9,
   "id": "3fa00d63",
   "metadata": {},
   "outputs": [],
   "source": [
    "from sklearn.model_selection import train_test_split\n",
    "#THIRD - Spliting the data\n",
    "train_set1, test_set1 = train_test_split(bc, test_size=0.2, random_state=42)\n",
    "train_set2, test_set2 = train_test_split(bc, test_size=0.2, random_state=42,stratify=bc['tumor cells'])"
   ]
  },
  {
   "cell_type": "code",
   "execution_count": 10,
   "id": "9cf5dd40",
   "metadata": {},
   "outputs": [
    {
     "data": {
      "text/html": [
       "<div>\n",
       "<style scoped>\n",
       "    .dataframe tbody tr th:only-of-type {\n",
       "        vertical-align: middle;\n",
       "    }\n",
       "\n",
       "    .dataframe tbody tr th {\n",
       "        vertical-align: top;\n",
       "    }\n",
       "\n",
       "    .dataframe thead th {\n",
       "        text-align: right;\n",
       "    }\n",
       "</style>\n",
       "<table border=\"1\" class=\"dataframe\">\n",
       "  <thead>\n",
       "    <tr style=\"text-align: right;\">\n",
       "      <th></th>\n",
       "      <th>Texture</th>\n",
       "      <th>Perimeter</th>\n",
       "      <th>Area</th>\n",
       "      <th>Smoothness</th>\n",
       "      <th>Compactness</th>\n",
       "      <th>Concavity</th>\n",
       "      <th>Concave_points</th>\n",
       "      <th>Symmetry</th>\n",
       "      <th>Fractal_dimension</th>\n",
       "    </tr>\n",
       "  </thead>\n",
       "  <tbody>\n",
       "    <tr>\n",
       "      <th>0</th>\n",
       "      <td>1.470078</td>\n",
       "      <td>1.387339</td>\n",
       "      <td>1.425359</td>\n",
       "      <td>0.833424</td>\n",
       "      <td>1.656265</td>\n",
       "      <td>2.521375</td>\n",
       "      <td>2.051428</td>\n",
       "      <td>-1.072623</td>\n",
       "      <td>0.383304</td>\n",
       "    </tr>\n",
       "    <tr>\n",
       "      <th>1</th>\n",
       "      <td>-0.414445</td>\n",
       "      <td>-0.410869</td>\n",
       "      <td>-0.422292</td>\n",
       "      <td>-0.680082</td>\n",
       "      <td>-0.960482</td>\n",
       "      <td>-0.710823</td>\n",
       "      <td>-0.604885</td>\n",
       "      <td>0.090718</td>\n",
       "      <td>-0.666844</td>\n",
       "    </tr>\n",
       "    <tr>\n",
       "      <th>2</th>\n",
       "      <td>-1.463071</td>\n",
       "      <td>-1.015508</td>\n",
       "      <td>-0.896135</td>\n",
       "      <td>-1.556323</td>\n",
       "      <td>-1.380149</td>\n",
       "      <td>-1.180013</td>\n",
       "      <td>-1.129589</td>\n",
       "      <td>-1.520062</td>\n",
       "      <td>-0.841868</td>\n",
       "    </tr>\n",
       "    <tr>\n",
       "      <th>3</th>\n",
       "      <td>-1.012587</td>\n",
       "      <td>-0.202058</td>\n",
       "      <td>-0.201340</td>\n",
       "      <td>-1.635981</td>\n",
       "      <td>-1.034541</td>\n",
       "      <td>-0.658691</td>\n",
       "      <td>-0.506503</td>\n",
       "      <td>-1.743781</td>\n",
       "      <td>-1.541966</td>\n",
       "    </tr>\n",
       "    <tr>\n",
       "      <th>4</th>\n",
       "      <td>-0.617163</td>\n",
       "      <td>-0.076872</td>\n",
       "      <td>-0.125811</td>\n",
       "      <td>-1.397006</td>\n",
       "      <td>-0.787678</td>\n",
       "      <td>-0.901974</td>\n",
       "      <td>-0.801649</td>\n",
       "      <td>-1.922757</td>\n",
       "      <td>-0.316794</td>\n",
       "    </tr>\n",
       "    <tr>\n",
       "      <th>...</th>\n",
       "      <td>...</td>\n",
       "      <td>...</td>\n",
       "      <td>...</td>\n",
       "      <td>...</td>\n",
       "      <td>...</td>\n",
       "      <td>...</td>\n",
       "      <td>...</td>\n",
       "      <td>...</td>\n",
       "      <td>...</td>\n",
       "    </tr>\n",
       "    <tr>\n",
       "      <th>395</th>\n",
       "      <td>-0.014015</td>\n",
       "      <td>-0.779836</td>\n",
       "      <td>-0.737561</td>\n",
       "      <td>0.036842</td>\n",
       "      <td>-0.935795</td>\n",
       "      <td>-0.710823</td>\n",
       "      <td>-0.604885</td>\n",
       "      <td>0.627645</td>\n",
       "      <td>-0.491819</td>\n",
       "    </tr>\n",
       "    <tr>\n",
       "      <th>396</th>\n",
       "      <td>-0.009010</td>\n",
       "      <td>1.017358</td>\n",
       "      <td>0.750855</td>\n",
       "      <td>0.992741</td>\n",
       "      <td>2.149990</td>\n",
       "      <td>2.156449</td>\n",
       "      <td>1.625106</td>\n",
       "      <td>0.448669</td>\n",
       "      <td>0.908377</td>\n",
       "    </tr>\n",
       "    <tr>\n",
       "      <th>397</th>\n",
       "      <td>-0.829891</td>\n",
       "      <td>-1.621162</td>\n",
       "      <td>-1.368851</td>\n",
       "      <td>-0.919057</td>\n",
       "      <td>-0.392697</td>\n",
       "      <td>-0.415407</td>\n",
       "      <td>-0.572091</td>\n",
       "      <td>0.672389</td>\n",
       "      <td>0.733353</td>\n",
       "    </tr>\n",
       "    <tr>\n",
       "      <th>398</th>\n",
       "      <td>0.256275</td>\n",
       "      <td>0.586559</td>\n",
       "      <td>0.376966</td>\n",
       "      <td>0.753766</td>\n",
       "      <td>1.532833</td>\n",
       "      <td>1.722014</td>\n",
       "      <td>1.526724</td>\n",
       "      <td>0.359182</td>\n",
       "      <td>0.208279</td>\n",
       "    </tr>\n",
       "    <tr>\n",
       "      <th>399</th>\n",
       "      <td>0.081087</td>\n",
       "      <td>0.037163</td>\n",
       "      <td>-0.112659</td>\n",
       "      <td>-0.281791</td>\n",
       "      <td>0.545382</td>\n",
       "      <td>0.453463</td>\n",
       "      <td>0.214965</td>\n",
       "      <td>0.314438</td>\n",
       "      <td>0.033255</td>\n",
       "    </tr>\n",
       "  </tbody>\n",
       "</table>\n",
       "<p>400 rows × 9 columns</p>\n",
       "</div>"
      ],
      "text/plain": [
       "      Texture  Perimeter      Area  Smoothness  Compactness  Concavity  \\\n",
       "0    1.470078   1.387339  1.425359    0.833424     1.656265   2.521375   \n",
       "1   -0.414445  -0.410869 -0.422292   -0.680082    -0.960482  -0.710823   \n",
       "2   -1.463071  -1.015508 -0.896135   -1.556323    -1.380149  -1.180013   \n",
       "3   -1.012587  -0.202058 -0.201340   -1.635981    -1.034541  -0.658691   \n",
       "4   -0.617163  -0.076872 -0.125811   -1.397006    -0.787678  -0.901974   \n",
       "..        ...        ...       ...         ...          ...        ...   \n",
       "395 -0.014015  -0.779836 -0.737561    0.036842    -0.935795  -0.710823   \n",
       "396 -0.009010   1.017358  0.750855    0.992741     2.149990   2.156449   \n",
       "397 -0.829891  -1.621162 -1.368851   -0.919057    -0.392697  -0.415407   \n",
       "398  0.256275   0.586559  0.376966    0.753766     1.532833   1.722014   \n",
       "399  0.081087   0.037163 -0.112659   -0.281791     0.545382   0.453463   \n",
       "\n",
       "     Concave_points  Symmetry  Fractal_dimension  \n",
       "0          2.051428 -1.072623           0.383304  \n",
       "1         -0.604885  0.090718          -0.666844  \n",
       "2         -1.129589 -1.520062          -0.841868  \n",
       "3         -0.506503 -1.743781          -1.541966  \n",
       "4         -0.801649 -1.922757          -0.316794  \n",
       "..              ...       ...                ...  \n",
       "395       -0.604885  0.627645          -0.491819  \n",
       "396        1.625106  0.448669           0.908377  \n",
       "397       -0.572091  0.672389           0.733353  \n",
       "398        1.526724  0.359182           0.208279  \n",
       "399        0.214965  0.314438           0.033255  \n",
       "\n",
       "[400 rows x 9 columns]"
      ]
     },
     "execution_count": 10,
     "metadata": {},
     "output_type": "execute_result"
    }
   ],
   "source": [
    "##FOURTH split the data + scale the X for the train and test\n",
    "from sklearn.preprocessing import StandardScaler\n",
    "scaler = StandardScaler()\n",
    "#using StandardScaler to scale train (StandardScaler is good with dealing with outliers)\n",
    "\n",
    "train_X = train_set2.drop(\"tumor cells\", axis=1)\n",
    "scaler.fit(train_X)\n",
    "scaled=scaler.transform(train_X)\n",
    "\n",
    "train_y = train_set2[\"tumor cells\"].copy()\n",
    "test_X = test_set2.drop(\"tumor cells\", axis=1)\n",
    "test_y = test_set2[\"tumor cells\"].copy()\n",
    "\n",
    "#train X after scaling AND dropping outliers\n",
    "trainX_scaled = pd.DataFrame(scaled, columns=train_X.columns)\n",
    "trainX_scaled"
   ]
  },
  {
   "cell_type": "code",
   "execution_count": 11,
   "id": "3ff55dea",
   "metadata": {
    "scrolled": false
   },
   "outputs": [],
   "source": [
    "train_X.to_csv('train_X.csv',index=False)\n",
    "train_y.to_csv('train_y.csv',index=False)\n",
    "\n"
   ]
  },
  {
   "cell_type": "code",
   "execution_count": 12,
   "id": "95f6853d",
   "metadata": {},
   "outputs": [],
   "source": [
    "##scaling testX\n",
    "scaled=scaler.transform(test_X)\n",
    "\n",
    "test_X.to_csv('test_X.csv',index=False)\n",
    "test_y.to_csv('test_y.csv',index=False)\n"
   ]
  },
  {
   "cell_type": "code",
   "execution_count": 13,
   "id": "70dddd23",
   "metadata": {},
   "outputs": [],
   "source": [
    "# Handlig outliers \n"
   ]
  },
  {
   "cell_type": "code",
   "execution_count": 14,
   "id": "cc4b3615",
   "metadata": {},
   "outputs": [
    {
     "name": "stdout",
     "output_type": "stream",
     "text": [
      "Accuracy for 8 features is 0.895\n",
      "\n",
      "Accuracy for 9 features is 0.905\n",
      "\n",
      "Number of selected features:  9\n",
      "\n",
      "Ranking of features:\n",
      " [1 1 1 1 1 1 1 1 1]\n"
     ]
    },
    {
     "data": {
      "image/png": "[encoded data removed]",
      "text/plain": [
       "<Figure size 288x288 with 2 Axes>"
      ]
     },
     "metadata": {
      "needs_background": "light"
     },
     "output_type": "display_data"
    }
   ],
   "source": [
    "from sklearn.svm import SVC\n",
    "from sklearn.feature_selection import RFE\n",
    "from sklearn.metrics import accuracy_score\n",
    "import matplotlib.pyplot as plt\n",
    "svc = SVC(kernel=\"linear\")\n",
    "\n",
    "#selecting 8 features and it's Accuracy result.\n",
    "rfe1 = RFE(estimator=svc, n_features_to_select=8, step=1)\n",
    "rfe1.fit(train_X, train_y)\n",
    "pred=rfe1.predict(train_X)\n",
    "Accuracy=accuracy_score(train_y,pred)\n",
    "print(\"Accuracy for 8 features is\",Accuracy)\n",
    "\n",
    "#selecting 9 features and it's Accuracy result.\n",
    "rfe1 = RFE(estimator=svc, n_features_to_select=9, step=1)\n",
    "rfe1.fit(train_X, train_y)\n",
    "\n",
    "\n",
    "pred=rfe1.predict(train_X)\n",
    "Accuracy=accuracy_score(train_y,pred)\n",
    "print(\"\\nAccuracy for 9 features is\",Accuracy)\n",
    "#our dataset features are all important so selecting all of it gets the best accuracy\n",
    "\n",
    "print(\"\\nNumber of selected features: \",rfe1.n_features_)\n",
    "print(\"\\nRanking of features:\\n\",rfe1.ranking_) #since we're using all the features all of it will be ranked 1\n",
    "\n",
    "ranking = rfe1.ranking_.reshape(3, 3)\n",
    "\n",
    "# Plot pixel ranking\n",
    "plt.matshow(ranking, cmap=plt.cm.Blues)\n",
    "plt.colorbar()\n",
    "#plt.title(\"Ranking of pixels with RFE\")\n",
    "plt.show()\n"
   ]
  },
  {
   "cell_type": "markdown",
   "id": "19ef77b8",
   "metadata": {},
   "source": [
    "# (SGD) classifier"
   ]
  },
  {
   "cell_type": "markdown",
   "id": "ad67038d",
   "metadata": {},
   "source": [
    "**accuracy** "
   ]
  },
  {
   "cell_type": "code",
   "execution_count": 15,
   "id": "f4b177d2",
   "metadata": {},
   "outputs": [
    {
     "data": {
      "text/plain": [
       "SGDClassifier(random_state=42)"
      ]
     },
     "execution_count": 15,
     "metadata": {},
     "output_type": "execute_result"
    }
   ],
   "source": [
    "from sklearn.linear_model import SGDClassifier\n",
    "sgd_clf = SGDClassifier(random_state=42)\n",
    "sgd_clf.fit(train_X, train_y)"
   ]
  },
  {
   "cell_type": "code",
   "execution_count": 16,
   "id": "72c1c49e",
   "metadata": {
    "scrolled": true
   },
   "outputs": [
    {
     "name": "stdout",
     "output_type": "stream",
     "text": [
      "accuracy of each fold [0.85  0.85  0.75  0.8   0.85  0.8   0.65  0.925 0.875 0.75 ]\n",
      "mean of accuracy 0.8099999999999999\n"
     ]
    }
   ],
   "source": [
    "from sklearn.model_selection import cross_val_score\n",
    "scores = cross_val_score(sgd_clf, train_X, train_y, cv=10, scoring=\"accuracy\")\n",
    "print(\"accuracy of each fold\",scores)\n",
    "print(\"mean of accuracy\",scores.mean())"
   ]
  },
  {
   "cell_type": "markdown",
   "id": "06339931",
   "metadata": {},
   "source": [
    "**Confusion Matrix**"
   ]
  },
  {
   "cell_type": "code",
   "execution_count": 17,
   "id": "817e07f0",
   "metadata": {},
   "outputs": [],
   "source": [
    "from sklearn.model_selection import cross_val_predict\n",
    "y_train_pred = cross_val_predict(sgd_clf, train_X, train_y, cv=10)"
   ]
  },
  {
   "cell_type": "code",
   "execution_count": 18,
   "id": "acbd2fc8",
   "metadata": {},
   "outputs": [
    {
     "data": {
      "text/plain": [
       "array([[230,  39],\n",
       "       [ 37,  94]], dtype=int64)"
      ]
     },
     "execution_count": 18,
     "metadata": {},
     "output_type": "execute_result"
    }
   ],
   "source": [
    "from sklearn.metrics import confusion_matrix\n",
    "confusion_matrix(train_y, y_train_pred) #the right prediction, the model prediction\n",
    "#230,94 correct, and 37,94 false "
   ]
  },
  {
   "cell_type": "markdown",
   "id": "5273c43b",
   "metadata": {},
   "source": [
    "**Precision and Recall**"
   ]
  },
  {
   "cell_type": "code",
   "execution_count": 19,
   "id": "282ec839",
   "metadata": {},
   "outputs": [
    {
     "data": {
      "text/plain": [
       "0.706766917293233"
      ]
     },
     "execution_count": 19,
     "metadata": {},
     "output_type": "execute_result"
    }
   ],
   "source": [
    "from sklearn.metrics import precision_score, recall_score\n",
    "precision_score(train_y, y_train_pred)"
   ]
  },
  {
   "cell_type": "code",
   "execution_count": 20,
   "id": "97825bdf",
   "metadata": {},
   "outputs": [
    {
     "data": {
      "text/plain": [
       "0.7175572519083969"
      ]
     },
     "execution_count": 20,
     "metadata": {},
     "output_type": "execute_result"
    }
   ],
   "source": [
    "recall_score(train_y, y_train_pred)"
   ]
  },
  {
   "cell_type": "code",
   "execution_count": 21,
   "id": "61539076",
   "metadata": {},
   "outputs": [
    {
     "data": {
      "text/plain": [
       "0.712121212121212"
      ]
     },
     "execution_count": 21,
     "metadata": {},
     "output_type": "execute_result"
    }
   ],
   "source": [
    "from sklearn.metrics import f1_score\n",
    "f1_score(train_y, y_train_pred)"
   ]
  },
  {
   "cell_type": "code",
   "execution_count": 22,
   "id": "f4c0a70c",
   "metadata": {},
   "outputs": [],
   "source": [
    "y_scores = cross_val_predict(sgd_clf, train_X, train_y, cv=10, method=\"decision_function\")"
   ]
  },
  {
   "cell_type": "code",
   "execution_count": 23,
   "id": "7eee7476",
   "metadata": {
    "scrolled": false
   },
   "outputs": [
    {
     "data": {
      "image/png": "[encoded data removed]",
      "text/plain": [
       "<Figure size 576x288 with 1 Axes>"
      ]
     },
     "metadata": {
      "needs_background": "light"
     },
     "output_type": "display_data"
    }
   ],
   "source": [
    "from sklearn.metrics import precision_recall_curve\n",
    "precisions, recalls, thresholds = precision_recall_curve(train_y, y_scores)\n",
    "\n",
    "%matplotlib inline\n",
    "import matplotlib.pyplot as plt\n",
    "def plot_precision_recall_vs_threshold(precisions, recalls, thresholds):\n",
    "    plt.plot(thresholds, precisions[:-1], \"b--\", label=\"Precision\")\n",
    "    plt.plot(thresholds, recalls[:-1], \"g-\", label=\"Recall\")\n",
    "    plt.xlabel(\"Threshold\")\n",
    "    plt.legend(loc=\"center left\")\n",
    "    plt.ylim([0, 1])\n",
    "    \n",
    "plt.figure(figsize=(8,4))\n",
    "plot_precision_recall_vs_threshold(precisions, recalls, thresholds)\n",
    "plt.show()"
   ]
  },
  {
   "cell_type": "code",
   "execution_count": 24,
   "id": "0f3ca769",
   "metadata": {},
   "outputs": [
    {
     "data": {
      "image/png": "[encoded data removed]",
      "text/plain": [
       "<Figure size 576x432 with 1 Axes>"
      ]
     },
     "metadata": {
      "needs_background": "light"
     },
     "output_type": "display_data"
    }
   ],
   "source": [
    "def plot_precision_vs_recall(precisions, recalls):\n",
    "    plt.plot(recalls, precisions, \"b-\", linewidth=2)\n",
    "    plt.xlabel(\"Recall\", fontsize=16)\n",
    "    plt.ylabel(\"Precision\", fontsize=16)\n",
    "    plt.axis([0, 1, 0, 1])\n",
    "\n",
    "plt.figure(figsize=(8, 6))\n",
    "plot_precision_vs_recall(precisions, recalls)\n",
    "plt.savefig('recall vs precision.png', dpi=300)\n",
    "plt.show()"
   ]
  },
  {
   "cell_type": "markdown",
   "id": "4652b53b",
   "metadata": {},
   "source": [
    "***The ROC Curve***"
   ]
  },
  {
   "cell_type": "code",
   "execution_count": 25,
   "id": "63865003",
   "metadata": {},
   "outputs": [],
   "source": [
    "from sklearn.metrics import roc_curve\n",
    "fpr, tpr, thresholds = roc_curve(train_y, y_scores)"
   ]
  },
  {
   "cell_type": "code",
   "execution_count": 26,
   "id": "3cb9d220",
   "metadata": {},
   "outputs": [
    {
     "data": {
      "image/png": "[encoded data removed]",
      "text/plain": [
       "<Figure size 432x288 with 1 Axes>"
      ]
     },
     "metadata": {
      "needs_background": "light"
     },
     "output_type": "display_data"
    }
   ],
   "source": [
    "def plot_roc_curve(fpr, tpr, label=None):\n",
    "    plt.plot(fpr, tpr,\"b-\", linewidth=2, label=label)\n",
    "    plt.plot([0, 1], [0, 1], 'k--')\n",
    "    plt.axis([0, 1, 0, 1])\n",
    "    plt.xlabel('False Positive Rate', fontsize=16)\n",
    "    plt.ylabel('True Positive Rate', fontsize=16)\n",
    "\n",
    "plot_roc_curve(fpr, tpr)\n",
    "plt.show()"
   ]
  },
  {
   "cell_type": "markdown",
   "id": "bb01beb9",
   "metadata": {},
   "source": [
    "# RandomForestClassifier"
   ]
  },
  {
   "cell_type": "code",
   "execution_count": 27,
   "id": "bc4a5104",
   "metadata": {},
   "outputs": [
    {
     "name": "stdout",
     "output_type": "stream",
     "text": [
      "accuracy of each fold [0.85  0.85  0.75  0.8   0.85  0.8   0.65  0.925 0.875 0.75 ]\n",
      "mean of accuracy 0.8099999999999999\n"
     ]
    }
   ],
   "source": [
    "from sklearn.ensemble import RandomForestClassifier\n",
    "forest_clf = RandomForestClassifier(random_state=42)\n",
    "y_probas_forest = cross_val_predict(forest_clf, train_X, train_y, cv=10, method=\"predict_proba\")\n",
    "print(\"accuracy of each fold\",scores)\n",
    "print(\"mean of accuracy\",scores.mean())"
   ]
  },
  {
   "cell_type": "code",
   "execution_count": 28,
   "id": "4fb232fa",
   "metadata": {},
   "outputs": [
    {
     "name": "stdout",
     "output_type": "stream",
     "text": [
      "accuracy of each fold [0.9   0.875 0.9   0.95  0.95  0.95  0.95  0.95  0.9   0.975]\n",
      "mean of accuracy 0.9299999999999999\n"
     ]
    }
   ],
   "source": [
    "from sklearn.model_selection import cross_val_score\n",
    "scores = cross_val_score(forest_clf, train_X, train_y, cv=10, scoring=\"accuracy\")\n",
    "print(\"accuracy of each fold\",scores)\n",
    "print(\"mean of accuracy\",scores.mean())"
   ]
  },
  {
   "cell_type": "code",
   "execution_count": 29,
   "id": "c9a08963",
   "metadata": {},
   "outputs": [],
   "source": [
    "y_train_pred_forest = cross_val_predict(forest_clf, train_X, train_y, cv=10)"
   ]
  },
  {
   "cell_type": "code",
   "execution_count": 30,
   "id": "74168102",
   "metadata": {},
   "outputs": [
    {
     "data": {
      "text/plain": [
       "0.8778625954198473"
      ]
     },
     "execution_count": 30,
     "metadata": {},
     "output_type": "execute_result"
    }
   ],
   "source": [
    "recall_score(train_y, y_train_pred_forest)"
   ]
  },
  {
   "cell_type": "code",
   "execution_count": 31,
   "id": "17ce0a51",
   "metadata": {},
   "outputs": [
    {
     "data": {
      "text/plain": [
       "0.905511811023622"
      ]
     },
     "execution_count": 31,
     "metadata": {},
     "output_type": "execute_result"
    }
   ],
   "source": [
    "precision_score(train_y, y_train_pred_forest)"
   ]
  },
  {
   "cell_type": "code",
   "execution_count": 32,
   "id": "3d1f8e78",
   "metadata": {
    "scrolled": true
   },
   "outputs": [
    {
     "data": {
      "text/plain": [
       "array([[257,  12],\n",
       "       [ 16, 115]], dtype=int64)"
      ]
     },
     "execution_count": 32,
     "metadata": {},
     "output_type": "execute_result"
    }
   ],
   "source": [
    "confusion_matrix(train_y, y_train_pred_forest)"
   ]
  },
  {
   "cell_type": "code",
   "execution_count": 33,
   "id": "925c73b6",
   "metadata": {},
   "outputs": [
    {
     "data": {
      "text/plain": [
       "0.8914728682170543"
      ]
     },
     "execution_count": 33,
     "metadata": {},
     "output_type": "execute_result"
    }
   ],
   "source": [
    "from sklearn.metrics import f1_score\n",
    "f1_score(train_y, y_train_pred_forest)"
   ]
  },
  {
   "cell_type": "code",
   "execution_count": 34,
   "id": "2e03ba63",
   "metadata": {},
   "outputs": [],
   "source": [
    "y_scores_forest = y_probas_forest[:, 1] # score = proba of positive class\n",
    "fpr_forest, tpr_forest, thresholds_forest = roc_curve(train_y,y_scores_forest)"
   ]
  },
  {
   "cell_type": "code",
   "execution_count": 35,
   "id": "8c0dc290",
   "metadata": {
    "scrolled": true
   },
   "outputs": [
    {
     "data": {
      "image/png": "[encoded data removed]",
      "text/plain": [
       "<Figure size 576x432 with 1 Axes>"
      ]
     },
     "metadata": {
      "needs_background": "light"
     },
     "output_type": "display_data"
    }
   ],
   "source": [
    "plt.figure(figsize=(8, 6))\n",
    "plt.plot(fpr, tpr, \"b:\", linewidth=2, label=\"SGD\")\n",
    "plot_roc_curve(fpr_forest, tpr_forest, \"Random Forest\")\n",
    "plt.legend(loc=\"lower right\", fontsize=16)\n",
    "plt.show()"
   ]
  },
  {
   "cell_type": "code",
   "execution_count": 36,
   "id": "f4ad9ca2",
   "metadata": {},
   "outputs": [
    {
     "data": {
      "image/png": "[encoded data removed]",
      "text/plain": [
       "<Figure size 432x288 with 1 Axes>"
      ]
     },
     "metadata": {
      "needs_background": "light"
     },
     "output_type": "display_data"
    }
   ],
   "source": [
    "classifiers=['SGD','RFC']\n",
    "precision=[0.8449,0.9221]\n",
    "plt.bar(classifiers,precision)\n",
    "plt.show()\n"
   ]
  },
  {
   "cell_type": "code",
   "execution_count": 37,
   "id": "8598cb05",
   "metadata": {},
   "outputs": [
    {
     "data": {
      "image/png": "[encoded data removed]",
      "text/plain": [
       "<Figure size 432x288 with 1 Axes>"
      ]
     },
     "metadata": {
      "needs_background": "light"
     },
     "output_type": "display_data"
    }
   ],
   "source": [
    "classifiers=['SGD','RFC']\n",
    "Accuracy=[0.809,0.929]\n",
    "plt.bar(classifiers,Accuracy)\n",
    "plt.show()"
   ]
  },
  {
   "cell_type": "markdown",
   "id": "ccf84264",
   "metadata": {},
   "source": [
    "# Evaluating on the test set"
   ]
  },
  {
   "cell_type": "code",
   "execution_count": 38,
   "id": "735f12bd",
   "metadata": {},
   "outputs": [
    {
     "data": {
      "text/plain": [
       "1.0"
      ]
     },
     "execution_count": 38,
     "metadata": {},
     "output_type": "execute_result"
    }
   ],
   "source": [
    "from sklearn.metrics import accuracy_score\n",
    "#RANDOM FOREST ON TEST\n",
    "forest_clf.fit(test_X, test_y)\n",
    "final_predictions = forest_clf.predict(test_X)\n",
    "\n",
    "#(1)acuuracy \n",
    "accuracy_score(test_y, final_predictions)\n"
   ]
  },
  {
   "cell_type": "code",
   "execution_count": 39,
   "id": "641ef474",
   "metadata": {},
   "outputs": [
    {
     "data": {
      "text/plain": [
       "array([[68,  0],\n",
       "       [ 0, 33]], dtype=int64)"
      ]
     },
     "execution_count": 39,
     "metadata": {},
     "output_type": "execute_result"
    }
   ],
   "source": [
    "#(2)confusing matrix\n",
    "confusion_matrix(test_y, final_predictions)"
   ]
  },
  {
   "cell_type": "code",
   "execution_count": 40,
   "id": "14191fe3",
   "metadata": {},
   "outputs": [
    {
     "data": {
      "text/plain": [
       "1.0"
      ]
     },
     "execution_count": 40,
     "metadata": {},
     "output_type": "execute_result"
    }
   ],
   "source": [
    "#(3)precision \n",
    "precision_score(test_y, final_predictions)"
   ]
  },
  {
   "cell_type": "code",
   "execution_count": 41,
   "id": "dce87654",
   "metadata": {},
   "outputs": [
    {
     "data": {
      "text/plain": [
       "1.0"
      ]
     },
     "execution_count": 41,
     "metadata": {},
     "output_type": "execute_result"
    }
   ],
   "source": [
    "#(4)recall\n",
    "recall_score(test_y, final_predictions)"
   ]
  },
  {
   "cell_type": "code",
   "execution_count": 42,
   "id": "99b13ae0",
   "metadata": {},
   "outputs": [
    {
     "data": {
      "text/plain": [
       "1.0"
      ]
     },
     "execution_count": 42,
     "metadata": {},
     "output_type": "execute_result"
    }
   ],
   "source": [
    "#(5)f1\n",
    "from sklearn.metrics import f1_score\n",
    "f1_score(test_y, final_predictions)"
   ]
  },
  {
   "cell_type": "code",
   "execution_count": 43,
   "id": "57900605",
   "metadata": {},
   "outputs": [
    {
     "data": {
      "text/plain": [
       "0.7821782178217822"
      ]
     },
     "execution_count": 43,
     "metadata": {},
     "output_type": "execute_result"
    }
   ],
   "source": [
    "#SGD ON TEST\n",
    "sgd_clf.fit(test_X, test_y)\n",
    "final_predictions = sgd_clf.predict(test_X)\n",
    "#(1)acuuracy \n",
    "accuracy_score(test_y, final_predictions)\n"
   ]
  },
  {
   "cell_type": "code",
   "execution_count": 44,
   "id": "3a053b53",
   "metadata": {},
   "outputs": [
    {
     "data": {
      "text/plain": [
       "array([[47, 21],\n",
       "       [ 1, 32]], dtype=int64)"
      ]
     },
     "execution_count": 44,
     "metadata": {},
     "output_type": "execute_result"
    }
   ],
   "source": [
    "#(2)confusing matrix\n",
    "confusion_matrix(test_y, final_predictions)"
   ]
  },
  {
   "cell_type": "code",
   "execution_count": 45,
   "id": "779c9f0e",
   "metadata": {},
   "outputs": [
    {
     "data": {
      "text/plain": [
       "0.6037735849056604"
      ]
     },
     "execution_count": 45,
     "metadata": {},
     "output_type": "execute_result"
    }
   ],
   "source": [
    "#(3)precision \n",
    "precision_score(test_y, final_predictions)"
   ]
  },
  {
   "cell_type": "code",
   "execution_count": 46,
   "id": "25844a53",
   "metadata": {},
   "outputs": [
    {
     "data": {
      "text/plain": [
       "0.9696969696969697"
      ]
     },
     "execution_count": 46,
     "metadata": {},
     "output_type": "execute_result"
    }
   ],
   "source": [
    "#(4)recall\n",
    "recall_score(test_y, final_predictions)"
   ]
  },
  {
   "cell_type": "code",
   "execution_count": 47,
   "id": "da224a33",
   "metadata": {},
   "outputs": [
    {
     "data": {
      "text/plain": [
       "0.7441860465116279"
      ]
     },
     "execution_count": 47,
     "metadata": {},
     "output_type": "execute_result"
    }
   ],
   "source": [
    "#(5)f1\n",
    "from sklearn.metrics import f1_score\n",
    "f1_score(test_y, final_predictions)"
   ]
  }
 ],
 "metadata": {
  "kernelspec": {
   "display_name": "Python 3",
   "language": "python",
   "name": "python3"
  },
  "language_info": {
   "codemirror_mode": {
    "name": "ipython",
    "version": 3
   },
   "file_extension": ".py",
   "mimetype": "text/x-python",
   "name": "python",
   "nbconvert_exporter": "python",
   "pygments_lexer": "ipython3",
   "version": "3.8.8"
  }
 },
 "nbformat": 4,
 "nbformat_minor": 5
}
